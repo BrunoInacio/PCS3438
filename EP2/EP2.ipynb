{
  "nbformat": 4,
  "nbformat_minor": 0,
  "metadata": {
    "colab": {
      "name": "IA_LISTA.ipynb",
      "provenance": [],
      "collapsed_sections": []
    },
    "kernelspec": {
      "name": "python3",
      "display_name": "Python 3"
    }
  },
  "cells": [
    {
      "cell_type": "markdown",
      "metadata": {
        "id": "3MLkOq23gLTt",
        "colab_type": "text"
      },
      "source": [
        "# PCS3438 - Inteligência Artificial\n",
        "\n",
        "Bruno Brandão Inácio - 9838122\n",
        "\n",
        "Vitor Tiveron de Almeida Santos - 9868085"
      ]
    },
    {
      "cell_type": "markdown",
      "metadata": {
        "id": "CkyfxswmSZQW",
        "colab_type": "text"
      },
      "source": [
        "## Configurações"
      ]
    },
    {
      "cell_type": "code",
      "metadata": {
        "id": "lwdt77o8fWY7",
        "colab_type": "code",
        "colab": {}
      },
      "source": [
        "import pandas as pd\n",
        "import numpy as np\n",
        "import math\n",
        "\n",
        "link = \"https://github.com/BrunoInacio/PCS3438/raw/master/EP2/\""
      ],
      "execution_count": 0,
      "outputs": []
    },
    {
      "cell_type": "markdown",
      "metadata": {
        "id": "qA9HRvEHgh4m",
        "colab_type": "text"
      },
      "source": [
        "## Questão 1\n",
        "Considerando os dados presentes no arquivo class01.csv, treine o algoritmo Naive Bayes Gaussiano utilizando a metodologia de validação cruzada holdout (utilize para treino as 350 primeiras linhas e para validação as demais). Qual o valor da acurácia a base de treino? Qual o valor da acurácia a base de validação?"
      ]
    },
    {
      "cell_type": "code",
      "metadata": {
        "id": "xVzhMk70fvYr",
        "colab_type": "code",
        "outputId": "c425d38e-1ee8-4b43-c02b-7f4484090582",
        "colab": {
          "base_uri": "https://localhost:8080/",
          "height": 99
        }
      },
      "source": [
        "from sklearn.naive_bayes import GaussianNB\n",
        "from sklearn.metrics import accuracy_score\n",
        "\n",
        "class01 = pd.read_csv(link + \"class01.csv\")\n",
        "class01.info(verbose = False)"
      ],
      "execution_count": 0,
      "outputs": [
        {
          "output_type": "stream",
          "text": [
            "<class 'pandas.core.frame.DataFrame'>\n",
            "RangeIndex: 1000 entries, 0 to 999\n",
            "Columns: 101 entries, x0 to target\n",
            "dtypes: float64(101)\n",
            "memory usage: 789.2 KB\n"
          ],
          "name": "stdout"
        }
      ]
    },
    {
      "cell_type": "code",
      "metadata": {
        "id": "GKcJOz6kdwwx",
        "colab_type": "code",
        "colab": {}
      },
      "source": [
        "x1 = class01.loc[:, :'x99']\n",
        "y1 = class01['target']"
      ],
      "execution_count": 0,
      "outputs": []
    },
    {
      "cell_type": "code",
      "metadata": {
        "id": "1_dFbcz3uWrI",
        "colab_type": "code",
        "colab": {}
      },
      "source": [
        "nb = GaussianNB()"
      ],
      "execution_count": 0,
      "outputs": []
    },
    {
      "cell_type": "code",
      "metadata": {
        "id": "ca8BFtVY4h77",
        "colab_type": "code",
        "outputId": "128be02a-669f-4e34-9956-80c2d46b2658",
        "colab": {
          "base_uri": "https://localhost:8080/",
          "height": 50
        }
      },
      "source": [
        "x1Train, x1Test = np.split(x1, [350])\n",
        "y1Train, y1Test = np.split(y1, [350])\n",
        "nb.fit(x1Train, y1Train)\n",
        "\n",
        "score1Train = accuracy_score(y1Train, nb.predict(x1Train))\n",
        "score1Test = accuracy_score(y1Test, nb.predict(x1Test))\n",
        "\n",
        "print(\"Acurácia na base de treino: {:.2%}\".format(score1Train))\n",
        "print(\"Acurácia na base de validação: {:.2%}\".format(score1Test))"
      ],
      "execution_count": 0,
      "outputs": [
        {
          "output_type": "stream",
          "text": [
            "Acurácia na base de treino: 76.00%\n",
            "Acurácia na base de validação: 62.77%\n"
          ],
          "name": "stdout"
        }
      ]
    },
    {
      "cell_type": "markdown",
      "metadata": {
        "id": "wiXqViA_gv7b",
        "colab_type": "text"
      },
      "source": [
        "## Questão 2\n",
        "\n",
        "Considerando os dados presentes no arquivo class02.csv, treine o algoritmo 10-Nearest Neighbors (KNN com 𝑘 = 10 e distância Euclidiana), utilizando a metodologia de validação cruzada k-fold com 5 folds não estratificados. Considere que a primeira pasta de validação seja formada pelas primeiras 20% linhas do arquivo, que a segunda pasta de validação seja formada pelas 20% linhas seguintes, e assim por diante, até atingir a última pasta, formada pelas 20% linhas finais da base. Qual o valor médio da acurácia para a base de validação?\n"
      ]
    },
    {
      "cell_type": "code",
      "metadata": {
        "id": "W9vebHj9gApF",
        "colab_type": "code",
        "outputId": "a552e571-6101-4270-d015-552e0a1fdb1e",
        "colab": {
          "base_uri": "https://localhost:8080/",
          "height": 99
        }
      },
      "source": [
        "from sklearn.neighbors import KNeighborsClassifier\n",
        "from sklearn.model_selection import KFold, cross_val_score\n",
        "\n",
        "class02 = pd.read_csv(link + \"class02.csv\")\n",
        "class02.info(verbose = False)"
      ],
      "execution_count": 0,
      "outputs": [
        {
          "output_type": "stream",
          "text": [
            "<class 'pandas.core.frame.DataFrame'>\n",
            "RangeIndex: 1500 entries, 0 to 1499\n",
            "Columns: 101 entries, x0 to target\n",
            "dtypes: float64(101)\n",
            "memory usage: 1.2 MB\n"
          ],
          "name": "stdout"
        }
      ]
    },
    {
      "cell_type": "code",
      "metadata": {
        "id": "i6kmmPB7GzkF",
        "colab_type": "code",
        "colab": {}
      },
      "source": [
        "x2 = class02.loc[:, :'x99']\n",
        "y2 = class02['target']"
      ],
      "execution_count": 0,
      "outputs": []
    },
    {
      "cell_type": "code",
      "metadata": {
        "id": "_xX2-lsBJWUa",
        "colab_type": "code",
        "colab": {}
      },
      "source": [
        "knn = KNeighborsClassifier(n_neighbors = 10, metric = 'euclidean')"
      ],
      "execution_count": 0,
      "outputs": []
    },
    {
      "cell_type": "code",
      "metadata": {
        "id": "5LuBdHUI6Uy4",
        "colab_type": "code",
        "outputId": "c89e8a57-88d2-4ac3-e078-a8b16d09fcac",
        "colab": {
          "base_uri": "https://localhost:8080/",
          "height": 33
        }
      },
      "source": [
        "score2 = cross_val_score(knn, x2, y2, scoring = 'accuracy',\n",
        "                         cv = KFold(n_splits = 5))\n",
        "\n",
        "print(\"Acurácia da base de validação: {:.2%}\".format(score2.mean()))"
      ],
      "execution_count": 0,
      "outputs": [
        {
          "output_type": "stream",
          "text": [
            "Acurácia da base de validação: 83.87%\n"
          ],
          "name": "stdout"
        }
      ]
    },
    {
      "cell_type": "markdown",
      "metadata": {
        "id": "dW2QvuIGg4my",
        "colab_type": "text"
      },
      "source": [
        "## Questão 3\n",
        "Considerando os dados presentes no arquivo reg01.csv, obtenha um modelo de regressão linear com regularização L1 (LASSO com 𝛼 = 1) utilizando a metodologia Leave-One-out. Qual o valor médio do Root Mean Squared Error (RMSE) para a base de treino e para a base de validação?"
      ]
    },
    {
      "cell_type": "code",
      "metadata": {
        "id": "qXYKN-nAgAvF",
        "colab_type": "code",
        "outputId": "55b1b8ce-28f4-49b1-d5c7-8ec75d2e27b1",
        "colab": {
          "base_uri": "https://localhost:8080/",
          "height": 99
        }
      },
      "source": [
        "from sklearn.linear_model import Lasso\n",
        "from sklearn.model_selection import LeaveOneOut, cross_validate\n",
        "\n",
        "reg01 = pd.read_csv(link + \"reg01.csv\")\n",
        "reg01.info(verbose = False)"
      ],
      "execution_count": 0,
      "outputs": [
        {
          "output_type": "stream",
          "text": [
            "<class 'pandas.core.frame.DataFrame'>\n",
            "RangeIndex: 1000 entries, 0 to 999\n",
            "Columns: 11 entries, x0 to target\n",
            "dtypes: float64(11)\n",
            "memory usage: 86.1 KB\n"
          ],
          "name": "stdout"
        }
      ]
    },
    {
      "cell_type": "code",
      "metadata": {
        "id": "cUKQ5exqS_LI",
        "colab_type": "code",
        "colab": {}
      },
      "source": [
        "x3 = reg01.loc[:, :'x9']\n",
        "y3 = reg01['target']"
      ],
      "execution_count": 0,
      "outputs": []
    },
    {
      "cell_type": "code",
      "metadata": {
        "id": "PYSIn5USCgwv",
        "colab_type": "code",
        "colab": {}
      },
      "source": [
        "lasso = Lasso(alpha = 1.0)"
      ],
      "execution_count": 0,
      "outputs": []
    },
    {
      "cell_type": "code",
      "metadata": {
        "id": "Pj5tnRfQXvmz",
        "colab_type": "code",
        "outputId": "97621400-3ab2-4e27-fb91-a6658ed6f699",
        "colab": {
          "base_uri": "https://localhost:8080/",
          "height": 50
        }
      },
      "source": [
        "score3 = cross_validate(lasso, x3, y3, cv = LeaveOneOut(),\n",
        "                        scoring = 'neg_mean_squared_error',\n",
        "                        return_train_score = True)\n",
        "\n",
        "RMSETest = np.sqrt(-score3['test_score']).mean()\n",
        "RMSETrain = np.sqrt(-score3['train_score']).mean()\n",
        "\n",
        "print(\"RMSE da base de treino: {:.4}\".format(RMSETrain))\n",
        "print(\"RMSE da base de validação: {:.4}\".format(RMSETest))"
      ],
      "execution_count": 0,
      "outputs": [
        {
          "output_type": "stream",
          "text": [
            "RMSE da base de treino: 19.22\n",
            "RMSE da base de validação: 15.47\n"
          ],
          "name": "stdout"
        }
      ]
    },
    {
      "cell_type": "markdown",
      "metadata": {
        "id": "zMbgIk1GgyZU",
        "colab_type": "text"
      },
      "source": [
        "## Questão 4\n",
        "Considerando os dados presentes no arquivo reg02.csv, treine uma árvore de regressão (sem realizar podas) com quebras baseadas no erro quadrático médio (do inglês MSE - Mean Squared Error) utilizando a metodologia de validação cruzada k-fold com 𝑘 = 5. Qual o valor do Mean Absolute Error (MAE) para a base de treino? Qual o valor médio do MAE para a base de validação?"
      ]
    },
    {
      "cell_type": "code",
      "metadata": {
        "id": "s4DfsQaQgA1F",
        "colab_type": "code",
        "outputId": "f7ed0b51-e864-4297-b657-3fa1e89d3cde",
        "colab": {
          "base_uri": "https://localhost:8080/",
          "height": 99
        }
      },
      "source": [
        "from sklearn.tree import DecisionTreeRegressor\n",
        "from sklearn.model_selection import KFold, cross_validate\n",
        "\n",
        "reg02 = pd.read_csv(link + \"reg02.csv\")\n",
        "reg02.info(verbose = False)"
      ],
      "execution_count": 0,
      "outputs": [
        {
          "output_type": "stream",
          "text": [
            "<class 'pandas.core.frame.DataFrame'>\n",
            "RangeIndex: 1000 entries, 0 to 999\n",
            "Columns: 21 entries, x0 to target\n",
            "dtypes: float64(21)\n",
            "memory usage: 164.2 KB\n"
          ],
          "name": "stdout"
        }
      ]
    },
    {
      "cell_type": "code",
      "metadata": {
        "id": "cbFQ9AVCS-AI",
        "colab_type": "code",
        "colab": {}
      },
      "source": [
        "x4 = reg02.loc[:, :'x19']\n",
        "y4 = reg02['target']"
      ],
      "execution_count": 0,
      "outputs": []
    },
    {
      "cell_type": "code",
      "metadata": {
        "id": "bkTNcVhcC7so",
        "colab_type": "code",
        "colab": {}
      },
      "source": [
        "tree = DecisionTreeRegressor(criterion = 'mse')"
      ],
      "execution_count": 0,
      "outputs": []
    },
    {
      "cell_type": "code",
      "metadata": {
        "id": "l3K6WsnFU1W1",
        "colab_type": "code",
        "outputId": "03e7d571-fa38-41f2-a98e-7ecfac64493f",
        "colab": {
          "base_uri": "https://localhost:8080/",
          "height": 50
        }
      },
      "source": [
        "score4 = cross_validate(tree, x4, y4, cv = KFold(n_splits = 5),\n",
        "                        scoring = 'neg_mean_absolute_error',\n",
        "                        return_train_score = True)\n",
        "\n",
        "MAETest = (-score4['test_score']).mean()\n",
        "MAETrain = (-score4['train_score']).mean()\n",
        "\n",
        "print(\"MAE da base de treino: {:.4}\".format(MAETrain))\n",
        "print(\"MAE da base de validação: {:.4}\".format(MAETest))"
      ],
      "execution_count": 0,
      "outputs": [
        {
          "output_type": "stream",
          "text": [
            "MAE da base de treino: 0.0\n",
            "MAE da base de validação: 44.59\n"
          ],
          "name": "stdout"
        }
      ]
    },
    {
      "cell_type": "markdown",
      "metadata": {
        "id": "W5nC9nblMm11",
        "colab_type": "text"
      },
      "source": [
        "## Questão 5\n",
        "Assinale as alternativas com V ou F para Verdadeiro ou Falso respectivamente. Atente para o\n",
        "fato que uma questão errada anula uma certa. Em caso de dúvidas, deixe em branco.\n",
        "\n",
        "( V ) Quando ajustamos um modelo linear, geralmente supomos que os erros tem distribuição normal e são independentes e identicamente distribuídos (i.i.d.).\n",
        "\n",
        "( V ) Quando ajustamos um modelo de regressão, podemos utilizar os valores preditos e os resíduos do modelo para avaliar se o modelo se adequa bem aos dados.\n",
        "\n",
        "( V ) O coeficiente de determinação (𝑟2) indica, em termos percentuais, quanto da variabilidade da variável resposta é explicada pelas covariáveis do modelo.\n",
        "\n",
        "( F ) Os modelos de regressão não são afetados por observações atípicas (outliers) e valores faltantes.\n",
        "\n",
        "( V ) Considerando um modelo de regressão simples, temos que o coeficiente associado à covariável representa o grau de inclinação da reta.\n",
        "\n",
        "( F ) Para efetuar regressão com o algoritmo KNN, pode-se fazer uma votação simples dos valores dos 𝑘 vizinhos encontrados.\n",
        "\n",
        "( V ) Para melhor desempenho da árvore de regressão, pode-se utilizar regressões lineares em suas folhas para previsão do valor final.\n",
        "\n",
        "( V ) No algoritmo Random Forest para regressão, o valor predito é obtido pela média dos valores encontrados em cada árvore. "
      ]
    }
  ]
}